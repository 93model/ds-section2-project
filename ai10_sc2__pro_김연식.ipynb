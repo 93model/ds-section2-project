{
  "nbformat": 4,
  "nbformat_minor": 0,
  "metadata": {
    "colab": {
      "name": "ai10_sc2__pro_김연식.ipynb",
      "provenance": [],
      "collapsed_sections": [],
      "include_colab_link": true
    },
    "kernelspec": {
      "name": "python3",
      "display_name": "Python 3"
    }
  },
  "cells": [
    {
      "cell_type": "markdown",
      "metadata": {
        "id": "view-in-github",
        "colab_type": "text"
      },
      "source": [
        "<a href=\"https://colab.research.google.com/github/93model/ds-section2-project/blob/main/ai10_sc2__pro_%EA%B9%80%EC%97%B0%EC%8B%9D.ipynb\" target=\"_parent\"><img src=\"https://colab.research.google.com/assets/colab-badge.svg\" alt=\"Open In Colab\"/></a>"
      ]
    },
    {
      "cell_type": "markdown",
      "metadata": {
        "id": "-wQxiT7yC4_v"
      },
      "source": [
        "# SC2 Project  프로젝트 설명서"
      ]
    },
    {
      "cell_type": "markdown",
      "metadata": {
        "id": "vBbJ0ZyPD6RG"
      },
      "source": [
        "# **프로젝트 개요:**\n",
        "\n",
        "김연식님은 Section 2에서 머신러닝 파이프라인을 구축하는 방법에 대해 공부하셨습니다.\n",
        "\n",
        "Section 2에서 다양한 데이터셋을 통해 머신러닝 방법론을 공부했습니다.\n",
        "\n",
        "데이터셋은 익숙한 데이터부터 전혀 도메인 지식이 없는 데이터까지 모두 다뤄봤습니다.\n",
        "\n",
        "이번 프로젝트에선 김연식님이 직접 선택한 데이터셋을 사용해서 만든 머신러닝 예측 모델을 통한 성능 및 인사이트를 도출/공유하는 것이 목표 입니다."
      ]
    },
    {
      "cell_type": "markdown",
      "source": [
        "# **프로젝트 목표:**\n",
        "\n",
        "Section 2 프로젝트의 목표는 개요에서 알려드린대로\n",
        "\n",
        "**데이터셋을 사용하여 머신러닝 모델을 만든 후 성능 및 인사이트를 도출 / 공유하는 것**\n",
        "\n",
        "을 데이터셋 선정부터 모델 해석까지의 결과로 보여주는 것이 목표입니다.\n",
        "\n",
        "이러한 데이터셋 전처리/EDA부터 모델을 해석하는 과정을 colab을 사용하여 작성하고, 해당 내용을 기반으로 설명하는 영상을 작성하는 것이 이번 프로젝트 기간 동안 김연식님이 수행하셔야 하는 태스크입니다.\n",
        "\n",
        "당연히 어떠한 코드, 분석, 라이브러리 혹은 목표를 가지는지는 온전히 김연식님의 자유 입니다.\n",
        "\n",
        "그러나, Section 2 Project인 만큼 해당 기간 동안 배운 내용을 위주로 설정하는 것이 권장됩니다.\n",
        "\n",
        "추가로, 김연식님의 발표를 듣는 사람은 비데이터 직군이라 가정합니다.\n",
        "\n",
        "즉 김연식님의 생각이나 가정들을 설명하는 과정에서 최대한 배경지식이 없는 사람들도 이해할 수 있도록 노력하셔야 할 겁니다"
      ],
      "metadata": {
        "id": "cfICjaOSd3h7"
      }
    },
    {
      "cell_type": "markdown",
      "source": [
        "# **프로젝트 절차:**\n",
        "앞서 알려드린 것 처럼.\n",
        "\n",
        "프로젝트 노트북 및 발표 영상의 흐름을 정하는 것은 자유이나 아래의 내용이 포함이 되어야 합니다.\n",
        "\n",
        "\n",
        "###**1) 데이터 선정 이유 및 문제 정의**\n",
        "\n",
        "데이터를 선정할 때에는 반드시 **왜 해당 데이터를 선택했는지**에 대해 김연식님의 이유를 자세히 설명해주셔야 합니다. 데이터셋 선정이 끝났다면 어떤 유형의 문제로 (분류 / 회귀) 접근할지도 결정합니다.\n",
        "\n"
      ],
      "metadata": {
        "id": "9WP18kYCeAN4"
      }
    },
    {
      "cell_type": "markdown",
      "source": [
        ""
      ],
      "metadata": {
        "id": "u4BzAvJjPpsm"
      }
    },
    {
      "cell_type": "markdown",
      "source": [
        "\n",
        "### **2) 데이터를 이용한 가설 및 평가지표, 베이스라인 선택**\n",
        "데이터를 선정함과 동시에 데이터를 통해서 내가 무엇을 해볼 수 있을지 가설을 세우는 것이 중요합니다. \n",
        "가설은 쓸모 있어야 한다는 사실을 잊지마시길 바랍니다.\n",
        "\n",
        "데이터 기반의 사고방식, data-driven의 마음가짐을 section1과 2에서 배웠습니다. 이번에는 그것들을 심화시켜서 문제 해결을 시도 해봅니다.\n",
        "\n",
        "태스크를 수행한 후, 다음 질문에 대답할 수 있어야 합니다.\n",
        "\n",
        "**1. 해당 특성을 target으로 지정한 이유를 설명하세요**\n",
        "\n",
        "**2. 해당 베이스라인 모델과 평가지표를 선택한 이유를 설명하세요**\n",
        "\n",
        "\n"
      ],
      "metadata": {
        "id": "COB9DIOwPn2e"
      }
    },
    {
      "cell_type": "markdown",
      "source": [
        "\n",
        "### **3) EDA와 데이터 전처리**\n",
        "\n",
        "가설을 정했고 베이스라인을 만들었다면 데이터의 탐색 및 가공을 시작해봅니다. 바로 적용이 될 수 있는 데이터도 있겠지만, 대부분의 데이터는 전처리 작업이 필요합니다.\n",
        "\n",
        "데이터 전처리를 통해 할 수 있는 것은 다양하지만 다음을 시도해볼 수 있습니다.\n",
        "\n",
        "\n",
        "EDA\n",
        "\n",
        "Feature Engineering\n",
        "\n",
        "데이터의 정규화\n",
        "\n",
        "노이즈 제거\n",
        "\n",
        "결측치 제거 혹은 대체\n",
        "\n",
        "데이터 밸런스\n",
        "\n",
        "그 외\n",
        "\n",
        "\n",
        "태스크를 수행한 후, 다음 질문에 대답할 수 있어야 합니다\n",
        "\n",
        "**1. Data Leakage가 있었나요? 없었다면 어떻게 방지했나요?**\n",
        "\n",
        "**2. 김연식님이 만들고자 하는 모델은 언제 유용한가요? 어떤 한계를 가지고 있나요?**\n",
        "\n",
        "\n"
      ],
      "metadata": {
        "id": "gR6hs629Pqf0"
      }
    },
    {
      "cell_type": "markdown",
      "source": [
        "\n",
        "\n",
        "### **4) 머신러닝 방식 적용 및 교차검증**\n",
        "데이터의 탐색과 전처리 작업이 끝났다면 모델링을 통해 베이스라인과의 성능 비교를 해봅니다.\n",
        "\n",
        "Linear / Tree-based / Ensemble 모델을 학습하세요. (다양하게 시도해보시는 걸 추천합니다.)\n",
        "\n",
        "평가지표를 계산 후 베이스라인과 비교해보세요.\n",
        "\n",
        "어느정도 성능이 나왔다면, 교차 검증 (이하 CV)을 통해서 일반화될 가능성이 있는지 확인해봅니다.\n",
        "\n",
        "모델 성능을 개선하기 위한 다양한 방법을 적용해보세요.\n",
        "\n",
        "  Hyperparameter tuning, etc.\n",
        "\n",
        "최소 2개 이상의 모델을 만들어서 validation 점수를 보고하세요.\n",
        "\n",
        "최종 모델의 test 점수를 보고하세요.\n",
        "\n",
        "태스크를 수행한 후, 다음 질문에 대답할 수 있어야 합니다.\n",
        "\n",
        "**1. 모델을 학습한 후에 베이스라인보다 잘 나왔나요? 그렇지 않다면 그 이유는 무엇일까요?**\n",
        "\n",
        "**2.모델 성능 개선을 위해 어떤 방법을 적용했나요? 그 방법을 선택한 이유는 무엇인가요?**\n",
        "\n",
        "**3. 최종 모델에 관해 설명하세요.**\n",
        "\n",
        "\n",
        "\n"
      ],
      "metadata": {
        "id": "xAgOLC5RPsk0"
      }
    },
    {
      "cell_type": "markdown",
      "source": [
        "\n",
        "### **5) 머신러닝 모델 해석**\n",
        "프로젝트에서 가장 중요하다고 볼 수 있는 부분 입니다. \n",
        "\n",
        "우리는 SHAP, PDP 등을 통해서 모델이 관측치를 어떤 특성을 활용했거나, 어떤 특성이 타겟에 영향을 끼쳤는지 등을 해석하는 방법에 대해서 배웠습니다.\n",
        "\n",
        "여러분의 프로젝트에도 이러한 해석 방법을 활용해 머신러닝 모델을 비전문가라도 조금 더 쉽게 이해하고 접근할 수 있도록 해주셔야 합니다.\n",
        "\n",
        "PDP, SHAP을 활용하여 최종 모델을 설명합니다\n",
        "\n",
        "**시각화는 \"설명\"이 제일 중요합니다.**\n",
        "\n",
        "\n",
        "태스크를 수행한 후, 다음 질문에 대답할 수 있어야 합니다.\n",
        "\n",
        "**1. 모델이 관측치를 예측하기 위해서 어떤 특성을 활용했나요?**\n",
        "\n",
        "**2. 어떤 특성이 있다면 모델의 예측에 도움이 될까요? 해당 특성은 어떻게 구할 수 있을까요?**"
      ],
      "metadata": {
        "id": "gRrENuObPuS_"
      }
    },
    {
      "cell_type": "code",
      "source": [
        ""
      ],
      "metadata": {
        "id": "AS_xYr9YPtxz"
      },
      "execution_count": null,
      "outputs": []
    },
    {
      "cell_type": "code",
      "source": [
        ""
      ],
      "metadata": {
        "id": "nB7TrTpHPqWc"
      },
      "execution_count": null,
      "outputs": []
    },
    {
      "cell_type": "code",
      "source": [
        ""
      ],
      "metadata": {
        "id": "QLm34ThUPnsM"
      },
      "execution_count": null,
      "outputs": []
    },
    {
      "cell_type": "code",
      "source": [
        "from google.colab import drive\n",
        "drive.mount('/content/drive')"
      ],
      "metadata": {
        "colab": {
          "base_uri": "https://localhost:8080/"
        },
        "id": "Hd-ARy-Ue9Yh",
        "outputId": "055eaebc-03e2-405c-aaed-91d59492ace6"
      },
      "execution_count": null,
      "outputs": [
        {
          "output_type": "stream",
          "name": "stdout",
          "text": [
            "Mounted at /content/drive\n"
          ]
        }
      ]
    }
  ]
}